{
 "cells": [
  {
   "cell_type": "code",
   "execution_count": null,
   "metadata": {},
   "outputs": [],
   "source": [
    "import json\n",
    "import numpy as np\n",
    "from pathlib import Path\n",
    "from complexcgr import FCGR\n"
   ]
  },
  {
   "cell_type": "markdown",
   "metadata": {},
   "source": [
    "___\n",
    "## Create `jpeg` images to visualize with `Phoenix`"
   ]
  },
  {
   "cell_type": "code",
   "execution_count": null,
   "metadata": {},
   "outputs": [],
   "source": [
    "\n",
    "# PATH_TRAIN=\"/data/bacteria/experiments/autoencoders/6mer/26122023-2\"\n",
    "PATH_TRAIN=\"/data/bacteria/experiments/autoencoders/6mer/27122023-5\"\n",
    "KMER=6"
   ]
  },
  {
   "cell_type": "code",
   "execution_count": null,
   "metadata": {},
   "outputs": [],
   "source": [
    "with open(f\"{PATH_TRAIN}/faiss-embeddings/id_query_embeddings.json\") as fp:\n",
    "    id_query = json.load(fp)\n",
    "    id_query = {int(k): v for k,v in id_query.items()}\n"
   ]
  },
  {
   "cell_type": "code",
   "execution_count": null,
   "metadata": {},
   "outputs": [],
   "source": [
    "fcgr = FCGR(KMER)\n",
    "\n",
    "for idx, path_npy in id_query.items():\n",
    "    m = np.load(path_npy)\n",
    "    path_save = path_npy.replace(\"fcgr\",\"img\").replace(\".npy\",\".jpeg\")\n",
    "    Path(path_save).parent.mkdir(exist_ok=True,parents=True)\n",
    "    fcgr.save_img(m, path_save)"
   ]
  },
  {
   "cell_type": "code",
   "execution_count": null,
   "metadata": {},
   "outputs": [],
   "source": []
  }
 ],
 "metadata": {
  "language_info": {
   "name": "python"
  }
 },
 "nbformat": 4,
 "nbformat_minor": 2
}
