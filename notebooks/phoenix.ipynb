{
 "cells": [
  {
   "cell_type": "code",
   "execution_count": 22,
   "metadata": {},
   "outputs": [],
   "source": [
    "# Import libraries.\n",
    "import json\n",
    "from pathlib import Path\n",
    "from collections import namedtuple\n",
    "\n",
    "from dataclasses import replace\n",
    "import pandas as pd\n",
    "import phoenix as px"
   ]
  },
  {
   "cell_type": "code",
   "execution_count": 31,
   "metadata": {},
   "outputs": [],
   "source": [
    "import numpy as np\n",
    "PATH_TRAIN=\"/data/bacteria/experiments/autoencoders/6mer/26122023-2\"\n",
    "KMER=6\n",
    "feature_pred_label = \"consensus_10\"\n",
    "xq = np.load(f\"{PATH_TRAIN}/faiss-embeddings/query_embeddings.npy\").astype(\"float32\")"
   ]
  },
  {
   "cell_type": "code",
   "execution_count": 24,
   "metadata": {},
   "outputs": [],
   "source": [
    "df_labels = pd.read_csv(f\"{PATH_TRAIN}/test/test_index.tsv\",sep=\"\\t\", usecols=[\"GT\",feature_pred_label])"
   ]
  },
  {
   "cell_type": "code",
   "execution_count": 25,
   "metadata": {},
   "outputs": [],
   "source": [
    "Phoenix=namedtuple(\"Phoenix\",[\"id\",\"path_img\",\"link_img\",\"label\",\"vector_img\"])\n",
    "data_phoenix = []\n",
    "\n",
    "with open(f\"{PATH_TRAIN}/faiss-embeddings/query_embeddings.json\") as fp:\n",
    "    id_query = json.load(fp)\n",
    "    id_query = {int(k): v for k,v in id_query.items()}\n",
    "\n",
    "REPLACE=\"/data/bacteria/experiments/autoencoders\"\n",
    "for idx, path_npy in id_query.items():\n",
    "    _id = Path(path_npy).stem\n",
    "    path_img = path_npy.replace(\"fcgr\",\"img\").replace(\".npy\",\".jpeg\")\n",
    "    link_img = path_img.replace(REPLACE,\"http://localhost:6007\") # I choose the port 6007, and I need to run `python -m http.server 6007` in the REPLACE directory\n",
    "    label = Path(path_img).parent.stem.split(\"__\")[0]\n",
    "    embedding = xq[idx]\n",
    "    data_phoenix.append(\n",
    "        Phoenix(_id, path_img, link_img, label, embedding)\n",
    "    )\n",
    "    "
   ]
  },
  {
   "cell_type": "code",
   "execution_count": 26,
   "metadata": {},
   "outputs": [
    {
     "data": {
      "text/html": [
       "<div>\n",
       "<style scoped>\n",
       "    .dataframe tbody tr th:only-of-type {\n",
       "        vertical-align: middle;\n",
       "    }\n",
       "\n",
       "    .dataframe tbody tr th {\n",
       "        vertical-align: top;\n",
       "    }\n",
       "\n",
       "    .dataframe thead th {\n",
       "        text-align: right;\n",
       "    }\n",
       "</style>\n",
       "<table border=\"1\" class=\"dataframe\">\n",
       "  <thead>\n",
       "    <tr style=\"text-align: right;\">\n",
       "      <th></th>\n",
       "      <th>id</th>\n",
       "      <th>path_img</th>\n",
       "      <th>link_img</th>\n",
       "      <th>label</th>\n",
       "      <th>vector_img</th>\n",
       "      <th>GT</th>\n",
       "      <th>consensus_10</th>\n",
       "    </tr>\n",
       "  </thead>\n",
       "  <tbody>\n",
       "    <tr>\n",
       "      <th>0</th>\n",
       "      <td>SAMN08887978</td>\n",
       "      <td>/data/bacteria/experiments/autoencoders/6mer/i...</td>\n",
       "      <td>http://localhost:6007/6mer/img/brucella_melite...</td>\n",
       "      <td>brucella_melitensis</td>\n",
       "      <td>[97.584114, 0.0, 0.0, 0.0, 0.0, 522.3128, 0.0,...</td>\n",
       "      <td>brucella_melitensis</td>\n",
       "      <td>brucella_melitensis</td>\n",
       "    </tr>\n",
       "    <tr>\n",
       "      <th>1</th>\n",
       "      <td>SAMN03222920</td>\n",
       "      <td>/data/bacteria/experiments/autoencoders/6mer/i...</td>\n",
       "      <td>http://localhost:6007/6mer/img/acinetobacter_b...</td>\n",
       "      <td>acinetobacter_baumannii</td>\n",
       "      <td>[843.95386, 723.7399, 0.0, 0.0, 0.0, 0.0, 0.0,...</td>\n",
       "      <td>acinetobacter_baumannii</td>\n",
       "      <td>acinetobacter_baumannii</td>\n",
       "    </tr>\n",
       "    <tr>\n",
       "      <th>2</th>\n",
       "      <td>SAMEA3357335</td>\n",
       "      <td>/data/bacteria/experiments/autoencoders/6mer/i...</td>\n",
       "      <td>http://localhost:6007/6mer/img/klebsiella_vari...</td>\n",
       "      <td>klebsiella_variicola</td>\n",
       "      <td>[799.2456, 286.15045, 0.0, 269.867, 0.0, 0.0, ...</td>\n",
       "      <td>klebsiella_variicola</td>\n",
       "      <td>klebsiella_variicola</td>\n",
       "    </tr>\n",
       "    <tr>\n",
       "      <th>3</th>\n",
       "      <td>SAMEA29273668</td>\n",
       "      <td>/data/bacteria/experiments/autoencoders/6mer/i...</td>\n",
       "      <td>http://localhost:6007/6mer/img/klebsiella_pneu...</td>\n",
       "      <td>klebsiella_pneumoniae</td>\n",
       "      <td>[800.6974, 350.22266, 0.0, 221.9124, 0.0, 0.0,...</td>\n",
       "      <td>klebsiella_pneumoniae</td>\n",
       "      <td>klebsiella_pneumoniae</td>\n",
       "    </tr>\n",
       "    <tr>\n",
       "      <th>4</th>\n",
       "      <td>SAMEA3403205</td>\n",
       "      <td>/data/bacteria/experiments/autoencoders/6mer/i...</td>\n",
       "      <td>http://localhost:6007/6mer/img/campylobacter_f...</td>\n",
       "      <td>campylobacter_fetus</td>\n",
       "      <td>[0.0, 1000.60443, 0.0, 0.0, 0.0, 785.8938, 0.0...</td>\n",
       "      <td>campylobacter_fetus</td>\n",
       "      <td>campylobacter_fetus</td>\n",
       "    </tr>\n",
       "  </tbody>\n",
       "</table>\n",
       "</div>"
      ],
      "text/plain": [
       "              id                                           path_img  \\\n",
       "0   SAMN08887978  /data/bacteria/experiments/autoencoders/6mer/i...   \n",
       "1   SAMN03222920  /data/bacteria/experiments/autoencoders/6mer/i...   \n",
       "2   SAMEA3357335  /data/bacteria/experiments/autoencoders/6mer/i...   \n",
       "3  SAMEA29273668  /data/bacteria/experiments/autoencoders/6mer/i...   \n",
       "4   SAMEA3403205  /data/bacteria/experiments/autoencoders/6mer/i...   \n",
       "\n",
       "                                            link_img                    label  \\\n",
       "0  http://localhost:6007/6mer/img/brucella_melite...      brucella_melitensis   \n",
       "1  http://localhost:6007/6mer/img/acinetobacter_b...  acinetobacter_baumannii   \n",
       "2  http://localhost:6007/6mer/img/klebsiella_vari...     klebsiella_variicola   \n",
       "3  http://localhost:6007/6mer/img/klebsiella_pneu...    klebsiella_pneumoniae   \n",
       "4  http://localhost:6007/6mer/img/campylobacter_f...      campylobacter_fetus   \n",
       "\n",
       "                                          vector_img                       GT  \\\n",
       "0  [97.584114, 0.0, 0.0, 0.0, 0.0, 522.3128, 0.0,...      brucella_melitensis   \n",
       "1  [843.95386, 723.7399, 0.0, 0.0, 0.0, 0.0, 0.0,...  acinetobacter_baumannii   \n",
       "2  [799.2456, 286.15045, 0.0, 269.867, 0.0, 0.0, ...     klebsiella_variicola   \n",
       "3  [800.6974, 350.22266, 0.0, 221.9124, 0.0, 0.0,...    klebsiella_pneumoniae   \n",
       "4  [0.0, 1000.60443, 0.0, 0.0, 0.0, 785.8938, 0.0...      campylobacter_fetus   \n",
       "\n",
       "              consensus_10  \n",
       "0      brucella_melitensis  \n",
       "1  acinetobacter_baumannii  \n",
       "2     klebsiella_variicola  \n",
       "3    klebsiella_pneumoniae  \n",
       "4      campylobacter_fetus  "
      ]
     },
     "execution_count": 26,
     "metadata": {},
     "output_type": "execute_result"
    }
   ],
   "source": [
    "train_df = pd.concat([pd.DataFrame(data_phoenix), df_labels],axis=1)\n",
    "train_df.head()"
   ]
  },
  {
   "cell_type": "code",
   "execution_count": 27,
   "metadata": {},
   "outputs": [],
   "source": [
    "# Define schemas that tell Phoenix which columns of your DataFrames correspond to features, predictions, actuals (i.e., ground truth), embeddings, etc.\n",
    "train_schema = px.Schema(\n",
    "    prediction_id_column_name=\"id\",\n",
    "    # timestamp_column_name=\"prediction_ts\",\n",
    "    prediction_label_column_name=feature_pred_label,\n",
    "    actual_label_column_name=\"GT\",\n",
    "    embedding_feature_column_names={\n",
    "        \"image_embedding\": px.EmbeddingColumnNames(\n",
    "            vector_column_name=\"vector_img\",\n",
    "            link_to_data_column_name=\"link_img\",\n",
    "        ),\n",
    "    },\n",
    ")"
   ]
  },
  {
   "cell_type": "code",
   "execution_count": 28,
   "metadata": {},
   "outputs": [
    {
     "name": "stderr",
     "output_type": "stream",
     "text": [
      "Existing running Phoenix instance detected! Shutting it down and starting a new instance...\n"
     ]
    },
    {
     "name": "stdout",
     "output_type": "stream",
     "text": [
      "🌍 To view the Phoenix app in your browser, visit http://127.0.0.1:6006/\n",
      "📺 To view the Phoenix app in a notebook, run `px.active_session().view()`\n",
      "📖 For more information on how to use Phoenix, check out https://docs.arize.com/phoenix\n",
      "📺 Opening a view to the Phoenix app. The app is running at http://127.0.0.1:6006/\n"
     ]
    },
    {
     "data": {
      "text/html": [
       "\n",
       "        <iframe\n",
       "            width=\"100%\"\n",
       "            height=\"1000\"\n",
       "            src=\"http://127.0.0.1:6006/\"\n",
       "            frameborder=\"0\"\n",
       "            allowfullscreen\n",
       "            \n",
       "        ></iframe>\n",
       "        "
      ],
      "text/plain": [
       "<IPython.lib.display.IFrame at 0x7f76278fe690>"
      ]
     },
     "execution_count": 28,
     "metadata": {},
     "output_type": "execute_result"
    },
    {
     "name": "stderr",
     "output_type": "stream",
     "text": [
      "/home/avila/micromamba/envs/phoenix/lib/python3.11/site-packages/phoenix/server/api/types/EmbeddingDimension.py:422: FutureWarning: Series.__getitem__ treating keys as positions is deprecated. In a future version, integer keys will always be treated as labels (consistent with DataFrame behavior). To access a value by position, use `ser.iloc[pos]`\n",
      "  prediction_id=dataset[PREDICTION_ID][row_id],\n",
      "/home/avila/micromamba/envs/phoenix/lib/python3.11/site-packages/phoenix/server/api/types/EmbeddingDimension.py:423: FutureWarning: Series.__getitem__ treating keys as positions is deprecated. In a future version, integer keys will always be treated as labels (consistent with DataFrame behavior). To access a value by position, use `ser.iloc[pos]`\n",
      "  link_to_data=dataset[self.dimension.link_to_data][row_id],\n",
      "/home/avila/micromamba/envs/phoenix/lib/python3.11/site-packages/phoenix/server/api/types/EmbeddingDimension.py:424: FutureWarning: Series.__getitem__ treating keys as positions is deprecated. In a future version, integer keys will always be treated as labels (consistent with DataFrame behavior). To access a value by position, use `ser.iloc[pos]`\n",
      "  raw_data=dataset[self.dimension.raw_data][row_id],\n",
      "/home/avila/micromamba/envs/phoenix/lib/python3.11/site-packages/phoenix/server/api/types/EmbeddingDimension.py:442: FutureWarning: Series.__getitem__ treating keys as positions is deprecated. In a future version, integer keys will always be treated as labels (consistent with DataFrame behavior). To access a value by position, use `ser.iloc[pos]`\n",
      "  prediction_label=dataset[PREDICTION_LABEL][row_id],\n",
      "/home/avila/micromamba/envs/phoenix/lib/python3.11/site-packages/phoenix/server/api/types/EmbeddingDimension.py:443: FutureWarning: Series.__getitem__ treating keys as positions is deprecated. In a future version, integer keys will always be treated as labels (consistent with DataFrame behavior). To access a value by position, use `ser.iloc[pos]`\n",
      "  prediction_score=dataset[PREDICTION_SCORE][row_id],\n",
      "/home/avila/micromamba/envs/phoenix/lib/python3.11/site-packages/phoenix/server/api/types/EmbeddingDimension.py:444: FutureWarning: Series.__getitem__ treating keys as positions is deprecated. In a future version, integer keys will always be treated as labels (consistent with DataFrame behavior). To access a value by position, use `ser.iloc[pos]`\n",
      "  actual_label=dataset[ACTUAL_LABEL][row_id],\n",
      "/home/avila/micromamba/envs/phoenix/lib/python3.11/site-packages/phoenix/server/api/types/EmbeddingDimension.py:445: FutureWarning: Series.__getitem__ treating keys as positions is deprecated. In a future version, integer keys will always be treated as labels (consistent with DataFrame behavior). To access a value by position, use `ser.iloc[pos]`\n",
      "  actual_score=dataset[ACTUAL_SCORE][row_id],\n",
      "/home/avila/micromamba/envs/phoenix/lib/python3.11/site-packages/phoenix/server/api/types/EmbeddingDimension.py:422: FutureWarning: Series.__getitem__ treating keys as positions is deprecated. In a future version, integer keys will always be treated as labels (consistent with DataFrame behavior). To access a value by position, use `ser.iloc[pos]`\n",
      "  prediction_id=dataset[PREDICTION_ID][row_id],\n",
      "/home/avila/micromamba/envs/phoenix/lib/python3.11/site-packages/phoenix/server/api/types/EmbeddingDimension.py:423: FutureWarning: Series.__getitem__ treating keys as positions is deprecated. In a future version, integer keys will always be treated as labels (consistent with DataFrame behavior). To access a value by position, use `ser.iloc[pos]`\n",
      "  link_to_data=dataset[self.dimension.link_to_data][row_id],\n",
      "/home/avila/micromamba/envs/phoenix/lib/python3.11/site-packages/phoenix/server/api/types/EmbeddingDimension.py:424: FutureWarning: Series.__getitem__ treating keys as positions is deprecated. In a future version, integer keys will always be treated as labels (consistent with DataFrame behavior). To access a value by position, use `ser.iloc[pos]`\n",
      "  raw_data=dataset[self.dimension.raw_data][row_id],\n",
      "/home/avila/micromamba/envs/phoenix/lib/python3.11/site-packages/phoenix/server/api/types/EmbeddingDimension.py:442: FutureWarning: Series.__getitem__ treating keys as positions is deprecated. In a future version, integer keys will always be treated as labels (consistent with DataFrame behavior). To access a value by position, use `ser.iloc[pos]`\n",
      "  prediction_label=dataset[PREDICTION_LABEL][row_id],\n",
      "/home/avila/micromamba/envs/phoenix/lib/python3.11/site-packages/phoenix/server/api/types/EmbeddingDimension.py:443: FutureWarning: Series.__getitem__ treating keys as positions is deprecated. In a future version, integer keys will always be treated as labels (consistent with DataFrame behavior). To access a value by position, use `ser.iloc[pos]`\n",
      "  prediction_score=dataset[PREDICTION_SCORE][row_id],\n",
      "/home/avila/micromamba/envs/phoenix/lib/python3.11/site-packages/phoenix/server/api/types/EmbeddingDimension.py:444: FutureWarning: Series.__getitem__ treating keys as positions is deprecated. In a future version, integer keys will always be treated as labels (consistent with DataFrame behavior). To access a value by position, use `ser.iloc[pos]`\n",
      "  actual_label=dataset[ACTUAL_LABEL][row_id],\n",
      "/home/avila/micromamba/envs/phoenix/lib/python3.11/site-packages/phoenix/server/api/types/EmbeddingDimension.py:445: FutureWarning: Series.__getitem__ treating keys as positions is deprecated. In a future version, integer keys will always be treated as labels (consistent with DataFrame behavior). To access a value by position, use `ser.iloc[pos]`\n",
      "  actual_score=dataset[ACTUAL_SCORE][row_id],\n",
      "/home/avila/micromamba/envs/phoenix/lib/python3.11/site-packages/phoenix/server/api/types/EmbeddingDimension.py:422: FutureWarning: Series.__getitem__ treating keys as positions is deprecated. In a future version, integer keys will always be treated as labels (consistent with DataFrame behavior). To access a value by position, use `ser.iloc[pos]`\n",
      "  prediction_id=dataset[PREDICTION_ID][row_id],\n",
      "/home/avila/micromamba/envs/phoenix/lib/python3.11/site-packages/phoenix/server/api/types/EmbeddingDimension.py:423: FutureWarning: Series.__getitem__ treating keys as positions is deprecated. In a future version, integer keys will always be treated as labels (consistent with DataFrame behavior). To access a value by position, use `ser.iloc[pos]`\n",
      "  link_to_data=dataset[self.dimension.link_to_data][row_id],\n",
      "/home/avila/micromamba/envs/phoenix/lib/python3.11/site-packages/phoenix/server/api/types/EmbeddingDimension.py:424: FutureWarning: Series.__getitem__ treating keys as positions is deprecated. In a future version, integer keys will always be treated as labels (consistent with DataFrame behavior). To access a value by position, use `ser.iloc[pos]`\n",
      "  raw_data=dataset[self.dimension.raw_data][row_id],\n",
      "/home/avila/micromamba/envs/phoenix/lib/python3.11/site-packages/phoenix/server/api/types/EmbeddingDimension.py:442: FutureWarning: Series.__getitem__ treating keys as positions is deprecated. In a future version, integer keys will always be treated as labels (consistent with DataFrame behavior). To access a value by position, use `ser.iloc[pos]`\n",
      "  prediction_label=dataset[PREDICTION_LABEL][row_id],\n",
      "/home/avila/micromamba/envs/phoenix/lib/python3.11/site-packages/phoenix/server/api/types/EmbeddingDimension.py:443: FutureWarning: Series.__getitem__ treating keys as positions is deprecated. In a future version, integer keys will always be treated as labels (consistent with DataFrame behavior). To access a value by position, use `ser.iloc[pos]`\n",
      "  prediction_score=dataset[PREDICTION_SCORE][row_id],\n",
      "/home/avila/micromamba/envs/phoenix/lib/python3.11/site-packages/phoenix/server/api/types/EmbeddingDimension.py:444: FutureWarning: Series.__getitem__ treating keys as positions is deprecated. In a future version, integer keys will always be treated as labels (consistent with DataFrame behavior). To access a value by position, use `ser.iloc[pos]`\n",
      "  actual_label=dataset[ACTUAL_LABEL][row_id],\n",
      "/home/avila/micromamba/envs/phoenix/lib/python3.11/site-packages/phoenix/server/api/types/EmbeddingDimension.py:445: FutureWarning: Series.__getitem__ treating keys as positions is deprecated. In a future version, integer keys will always be treated as labels (consistent with DataFrame behavior). To access a value by position, use `ser.iloc[pos]`\n",
      "  actual_score=dataset[ACTUAL_SCORE][row_id],\n"
     ]
    }
   ],
   "source": [
    "# Define schemas that tell Phoenix which columns of your DataFrames correspond to features, predictions, actuals (i.e., ground truth), embeddings, etc.\n",
    "# prod_schema = replace(train_schema, actual_label_column_name=None)\n",
    "\n",
    "# Define your production and training datasets.\n",
    "# prod_ds = px.Dataset(prod_df, prod_schema)\n",
    "train_ds = px.Dataset(train_df, train_schema)\n",
    "\n",
    "# Launch Phoenix.\n",
    "session = px.launch_app(\n",
    "    # prod_ds, \n",
    "    train_ds,\n",
    "    port=6006\n",
    "    )\n",
    "\n",
    "# View the Phoenix UI in the browser\n",
    "# session.url\n",
    "px.active_session().view()"
   ]
  },
  {
   "cell_type": "code",
   "execution_count": null,
   "metadata": {},
   "outputs": [],
   "source": []
  }
 ],
 "metadata": {
  "kernelspec": {
   "display_name": "phoenix",
   "language": "python",
   "name": "python3"
  },
  "language_info": {
   "codemirror_mode": {
    "name": "ipython",
    "version": 3
   },
   "file_extension": ".py",
   "mimetype": "text/x-python",
   "name": "python",
   "nbconvert_exporter": "python",
   "pygments_lexer": "ipython3",
   "version": "3.11.7"
  }
 },
 "nbformat": 4,
 "nbformat_minor": 2
}
