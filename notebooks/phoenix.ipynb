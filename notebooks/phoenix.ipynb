{
 "cells": [
  {
   "cell_type": "code",
   "execution_count": 1,
   "metadata": {},
   "outputs": [
    {
     "name": "stderr",
     "output_type": "stream",
     "text": [
      "/home/avila/micromamba/envs/phoenix/lib/python3.11/site-packages/tqdm/auto.py:21: TqdmWarning: IProgress not found. Please update jupyter and ipywidgets. See https://ipywidgets.readthedocs.io/en/stable/user_install.html\n",
      "  from .autonotebook import tqdm as notebook_tqdm\n"
     ]
    }
   ],
   "source": [
    "# Import libraries.\n",
    "import json\n",
    "from pathlib import Path\n",
    "from collections import namedtuple\n",
    "\n",
    "from dataclasses import replace\n",
    "import pandas as pd\n",
    "import phoenix as px"
   ]
  },
  {
   "cell_type": "code",
   "execution_count": 2,
   "metadata": {},
   "outputs": [],
   "source": [
    "import numpy as np\n",
    "PATH_TRAIN=\"/data/bacteria/experiments/autoencoders/6mer/27122023-5\"\n",
    "KMER=6\n",
    "feature_pred_label = \"consensus_10\"\n",
    "xq = np.load(f\"{PATH_TRAIN}/faiss-embeddings/query_embeddings.npy\").astype(\"float32\")"
   ]
  },
  {
   "cell_type": "code",
   "execution_count": 3,
   "metadata": {},
   "outputs": [],
   "source": [
    "df_labels = pd.read_csv(f\"{PATH_TRAIN}/test/test_index.tsv\",sep=\"\\t\", usecols=[\"GT\",feature_pred_label])"
   ]
  },
  {
   "cell_type": "code",
   "execution_count": 4,
   "metadata": {},
   "outputs": [],
   "source": [
    "Phoenix=namedtuple(\"Phoenix\",[\"id\",\"path_img\",\"link_img\",\"label\",\"vector_img\"])\n",
    "data_phoenix = []\n",
    "\n",
    "with open(f\"{PATH_TRAIN}/faiss-embeddings/id_query_embeddings.json\") as fp:\n",
    "    id_query = json.load(fp)\n",
    "    id_query = {int(k): v for k,v in id_query.items()}\n",
    "\n",
    "REPLACE=\"/data/bacteria/experiments/autoencoders\"\n",
    "for idx, path_npy in id_query.items():\n",
    "    _id = Path(path_npy).stem\n",
    "    path_img = path_npy.replace(\"fcgr\",\"img\").replace(\".npy\",\".jpeg\")\n",
    "    link_img = path_img.replace(REPLACE,\"http://localhost:6007\") # I choose the port 6007, and I need to run `python -m http.server 6007` in the REPLACE directory\n",
    "    label = Path(path_img).parent.stem.split(\"__\")[0]\n",
    "    embedding = xq[idx]\n",
    "    data_phoenix.append(\n",
    "        Phoenix(_id, path_img, link_img, label, embedding)\n",
    "    )\n",
    "    "
   ]
  },
  {
   "cell_type": "code",
   "execution_count": 5,
   "metadata": {},
   "outputs": [
    {
     "data": {
      "text/html": [
       "<div>\n",
       "<style scoped>\n",
       "    .dataframe tbody tr th:only-of-type {\n",
       "        vertical-align: middle;\n",
       "    }\n",
       "\n",
       "    .dataframe tbody tr th {\n",
       "        vertical-align: top;\n",
       "    }\n",
       "\n",
       "    .dataframe thead th {\n",
       "        text-align: right;\n",
       "    }\n",
       "</style>\n",
       "<table border=\"1\" class=\"dataframe\">\n",
       "  <thead>\n",
       "    <tr style=\"text-align: right;\">\n",
       "      <th></th>\n",
       "      <th>id</th>\n",
       "      <th>path_img</th>\n",
       "      <th>link_img</th>\n",
       "      <th>label</th>\n",
       "      <th>vector_img</th>\n",
       "      <th>GT</th>\n",
       "      <th>consensus_10</th>\n",
       "    </tr>\n",
       "  </thead>\n",
       "  <tbody>\n",
       "    <tr>\n",
       "      <th>0</th>\n",
       "      <td>SAMEA1030444</td>\n",
       "      <td>/data/bacteria/experiments/autoencoders/6mer/i...</td>\n",
       "      <td>http://localhost:6007/6mer/img/escherichia_col...</td>\n",
       "      <td>escherichia_coli</td>\n",
       "      <td>[0.0, 0.0, 0.0087590385, 0.05582408, 0.0021745...</td>\n",
       "      <td>escherichia_coli</td>\n",
       "      <td>escherichia_coli</td>\n",
       "    </tr>\n",
       "    <tr>\n",
       "      <th>1</th>\n",
       "      <td>SAMEA3373505</td>\n",
       "      <td>/data/bacteria/experiments/autoencoders/6mer/i...</td>\n",
       "      <td>http://localhost:6007/6mer/img/neisseria_gonor...</td>\n",
       "      <td>neisseria_gonorrhoeae</td>\n",
       "      <td>[0.0, 0.0, 0.08142213, 0.0, 0.0, 0.0, 0.0, 0.1...</td>\n",
       "      <td>neisseria_gonorrhoeae</td>\n",
       "      <td>neisseria_gonorrhoeae</td>\n",
       "    </tr>\n",
       "    <tr>\n",
       "      <th>2</th>\n",
       "      <td>SAMEA104093527</td>\n",
       "      <td>/data/bacteria/experiments/autoencoders/6mer/i...</td>\n",
       "      <td>http://localhost:6007/6mer/img/staphylococcus_...</td>\n",
       "      <td>staphylococcus_aureus</td>\n",
       "      <td>[0.0, 0.088135384, 0.09180802, 0.0, 0.0, 0.0, ...</td>\n",
       "      <td>staphylococcus_aureus</td>\n",
       "      <td>staphylococcus_aureus</td>\n",
       "    </tr>\n",
       "    <tr>\n",
       "      <th>3</th>\n",
       "      <td>SAMN03074833</td>\n",
       "      <td>/data/bacteria/experiments/autoencoders/6mer/i...</td>\n",
       "      <td>http://localhost:6007/6mer/img/klebsiella_aero...</td>\n",
       "      <td>klebsiella_aerogenes</td>\n",
       "      <td>[0.0, 0.0, 0.032542888, 0.0, 0.010286896, 0.0,...</td>\n",
       "      <td>klebsiella_aerogenes</td>\n",
       "      <td>klebsiella_pneumoniae</td>\n",
       "    </tr>\n",
       "    <tr>\n",
       "      <th>4</th>\n",
       "      <td>SAMEA2159852</td>\n",
       "      <td>/data/bacteria/experiments/autoencoders/6mer/i...</td>\n",
       "      <td>http://localhost:6007/6mer/img/streptococcus_p...</td>\n",
       "      <td>streptococcus_pyogenes</td>\n",
       "      <td>[0.0, 0.087676406, 0.039066393, 0.0, 0.0, 0.0,...</td>\n",
       "      <td>streptococcus_pyogenes</td>\n",
       "      <td>streptococcus_pyogenes</td>\n",
       "    </tr>\n",
       "  </tbody>\n",
       "</table>\n",
       "</div>"
      ],
      "text/plain": [
       "               id                                           path_img  \\\n",
       "0    SAMEA1030444  /data/bacteria/experiments/autoencoders/6mer/i...   \n",
       "1    SAMEA3373505  /data/bacteria/experiments/autoencoders/6mer/i...   \n",
       "2  SAMEA104093527  /data/bacteria/experiments/autoencoders/6mer/i...   \n",
       "3    SAMN03074833  /data/bacteria/experiments/autoencoders/6mer/i...   \n",
       "4    SAMEA2159852  /data/bacteria/experiments/autoencoders/6mer/i...   \n",
       "\n",
       "                                            link_img                   label  \\\n",
       "0  http://localhost:6007/6mer/img/escherichia_col...        escherichia_coli   \n",
       "1  http://localhost:6007/6mer/img/neisseria_gonor...   neisseria_gonorrhoeae   \n",
       "2  http://localhost:6007/6mer/img/staphylococcus_...   staphylococcus_aureus   \n",
       "3  http://localhost:6007/6mer/img/klebsiella_aero...    klebsiella_aerogenes   \n",
       "4  http://localhost:6007/6mer/img/streptococcus_p...  streptococcus_pyogenes   \n",
       "\n",
       "                                          vector_img                      GT  \\\n",
       "0  [0.0, 0.0, 0.0087590385, 0.05582408, 0.0021745...        escherichia_coli   \n",
       "1  [0.0, 0.0, 0.08142213, 0.0, 0.0, 0.0, 0.0, 0.1...   neisseria_gonorrhoeae   \n",
       "2  [0.0, 0.088135384, 0.09180802, 0.0, 0.0, 0.0, ...   staphylococcus_aureus   \n",
       "3  [0.0, 0.0, 0.032542888, 0.0, 0.010286896, 0.0,...    klebsiella_aerogenes   \n",
       "4  [0.0, 0.087676406, 0.039066393, 0.0, 0.0, 0.0,...  streptococcus_pyogenes   \n",
       "\n",
       "             consensus_10  \n",
       "0        escherichia_coli  \n",
       "1   neisseria_gonorrhoeae  \n",
       "2   staphylococcus_aureus  \n",
       "3   klebsiella_pneumoniae  \n",
       "4  streptococcus_pyogenes  "
      ]
     },
     "execution_count": 5,
     "metadata": {},
     "output_type": "execute_result"
    }
   ],
   "source": [
    "test_df = pd.concat([pd.DataFrame(data_phoenix), df_labels],axis=1)\n",
    "test_df.head()"
   ]
  },
  {
   "cell_type": "code",
   "execution_count": 6,
   "metadata": {},
   "outputs": [],
   "source": [
    "# Define schemas that tell Phoenix which columns of your DataFrames correspond to features, predictions, actuals (i.e., ground truth), embeddings, etc.\n",
    "test_schema = px.Schema(\n",
    "    prediction_id_column_name=\"id\",\n",
    "    # timestamp_column_name=\"prediction_ts\",\n",
    "    prediction_label_column_name=feature_pred_label,\n",
    "    actual_label_column_name=\"GT\",\n",
    "    embedding_feature_column_names={\n",
    "        \"image_embedding\": px.EmbeddingColumnNames(\n",
    "            vector_column_name=\"vector_img\",\n",
    "            link_to_data_column_name=\"link_img\",\n",
    "        ),\n",
    "    },\n",
    ")"
   ]
  },
  {
   "cell_type": "code",
   "execution_count": 7,
   "metadata": {},
   "outputs": [],
   "source": [
    "labels = ['bacillus_anthracis',\n",
    " 'bacillus_cereus',\n",
    " 'bacillus_thuringiensis',\n",
    " 'brucella_abortus',\n",
    " 'brucella_melitensis',\n",
    " 'brucella_suis',\n",
    " 'burkholderia_gladioli',\n",
    " 'cutibacterium_acnes',\n",
    " 'enterobacter_cloacae',\n",
    " 'enterobacter_hormaechei',\n",
    " 'escherichia_coli',\n",
    " 'eubacterium_hallii',\n",
    " 'klebsiella_pneumoniae',\n",
    " 'lactobacillus_salivarius',\n",
    " 'lactococcus_lactis',\n",
    " 'mycobacterium_avium',\n",
    " 'mycobacterium_chimaera',\n",
    " 'mycobacterium_kansasii',\n",
    " 'mycobacteroides_abscessus',\n",
    " 'mycobacteroides_chelonae',\n",
    " 'roseburia_hominis',\n",
    " 'shigella_flexneri',\n",
    " 'streptococcus_agalactiae',\n",
    " 'streptococcus_mitis',\n",
    " 'streptococcus_oralis',\n",
    " 'streptococcus_sp_group_b']"
   ]
  },
  {
   "cell_type": "code",
   "execution_count": 8,
   "metadata": {},
   "outputs": [
    {
     "name": "stdout",
     "output_type": "stream",
     "text": [
      "(2403, 7)\n",
      "🌍 To view the Phoenix app in your browser, visit http://127.0.0.1:6006/\n",
      "📺 To view the Phoenix app in a notebook, run `px.active_session().view()`\n",
      "📖 For more information on how to use Phoenix, check out https://docs.arize.com/phoenix\n"
     ]
    },
    {
     "data": {
      "text/plain": [
       "'http://127.0.0.1:6006/'"
      ]
     },
     "execution_count": 8,
     "metadata": {},
     "output_type": "execute_result"
    },
    {
     "name": "stderr",
     "output_type": "stream",
     "text": [
      "/home/avila/micromamba/envs/phoenix/lib/python3.11/site-packages/phoenix/server/api/types/EmbeddingDimension.py:422: FutureWarning: Series.__getitem__ treating keys as positions is deprecated. In a future version, integer keys will always be treated as labels (consistent with DataFrame behavior). To access a value by position, use `ser.iloc[pos]`\n",
      "  prediction_id=dataset[PREDICTION_ID][row_id],\n",
      "/home/avila/micromamba/envs/phoenix/lib/python3.11/site-packages/phoenix/server/api/types/EmbeddingDimension.py:423: FutureWarning: Series.__getitem__ treating keys as positions is deprecated. In a future version, integer keys will always be treated as labels (consistent with DataFrame behavior). To access a value by position, use `ser.iloc[pos]`\n",
      "  link_to_data=dataset[self.dimension.link_to_data][row_id],\n",
      "/home/avila/micromamba/envs/phoenix/lib/python3.11/site-packages/phoenix/server/api/types/EmbeddingDimension.py:424: FutureWarning: Series.__getitem__ treating keys as positions is deprecated. In a future version, integer keys will always be treated as labels (consistent with DataFrame behavior). To access a value by position, use `ser.iloc[pos]`\n",
      "  raw_data=dataset[self.dimension.raw_data][row_id],\n",
      "/home/avila/micromamba/envs/phoenix/lib/python3.11/site-packages/phoenix/server/api/types/EmbeddingDimension.py:442: FutureWarning: Series.__getitem__ treating keys as positions is deprecated. In a future version, integer keys will always be treated as labels (consistent with DataFrame behavior). To access a value by position, use `ser.iloc[pos]`\n",
      "  prediction_label=dataset[PREDICTION_LABEL][row_id],\n",
      "/home/avila/micromamba/envs/phoenix/lib/python3.11/site-packages/phoenix/server/api/types/EmbeddingDimension.py:443: FutureWarning: Series.__getitem__ treating keys as positions is deprecated. In a future version, integer keys will always be treated as labels (consistent with DataFrame behavior). To access a value by position, use `ser.iloc[pos]`\n",
      "  prediction_score=dataset[PREDICTION_SCORE][row_id],\n",
      "/home/avila/micromamba/envs/phoenix/lib/python3.11/site-packages/phoenix/server/api/types/EmbeddingDimension.py:444: FutureWarning: Series.__getitem__ treating keys as positions is deprecated. In a future version, integer keys will always be treated as labels (consistent with DataFrame behavior). To access a value by position, use `ser.iloc[pos]`\n",
      "  actual_label=dataset[ACTUAL_LABEL][row_id],\n",
      "/home/avila/micromamba/envs/phoenix/lib/python3.11/site-packages/phoenix/server/api/types/EmbeddingDimension.py:445: FutureWarning: Series.__getitem__ treating keys as positions is deprecated. In a future version, integer keys will always be treated as labels (consistent with DataFrame behavior). To access a value by position, use `ser.iloc[pos]`\n",
      "  actual_score=dataset[ACTUAL_SCORE][row_id],\n"
     ]
    }
   ],
   "source": [
    "# Define schemas that tell Phoenix which columns of your DataFrames correspond to features, predictions, actuals (i.e., ground truth), embeddings, etc.\n",
    "# prod_schema = replace(train_schema, actual_label_column_name=None)\n",
    "\n",
    "# Define your production and training datasets.\n",
    "# prod_ds = px.Dataset(prod_df, prod_schema)\n",
    "# train_ds = px.Dataset(train_df, train_schema)\n",
    "print(test_df.query(f\"GT in {labels}\").shape)\n",
    "test_ds = px.Dataset(test_df.query(f\"GT in {labels}\"), test_schema)\n",
    "\n",
    "# Launch Phoenix.\n",
    "session = px.launch_app(\n",
    "    # prod_ds, \n",
    "    test_ds,\n",
    "    port=6006\n",
    "    )\n",
    "\n",
    "# View the Phoenix UI in the browser\n",
    "session.url\n",
    "# px.active_session().view()"
   ]
  },
  {
   "cell_type": "code",
   "execution_count": null,
   "metadata": {},
   "outputs": [],
   "source": []
  }
 ],
 "metadata": {
  "kernelspec": {
   "display_name": "phoenix",
   "language": "python",
   "name": "python3"
  },
  "language_info": {
   "codemirror_mode": {
    "name": "ipython",
    "version": 3
   },
   "file_extension": ".py",
   "mimetype": "text/x-python",
   "name": "python",
   "nbconvert_exporter": "python",
   "pygments_lexer": "ipython3",
   "version": "3.11.7"
  }
 },
 "nbformat": 4,
 "nbformat_minor": 2
}
