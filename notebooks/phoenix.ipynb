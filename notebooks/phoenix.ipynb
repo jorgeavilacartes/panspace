{
 "cells": [
  {
   "cell_type": "code",
   "execution_count": 2,
   "metadata": {},
   "outputs": [],
   "source": [
    "# Import libraries.\n",
    "from dataclasses import replace\n",
    "import pandas as pd\n",
    "import phoenix as px\n"
   ]
  },
  {
   "cell_type": "code",
   "execution_count": 10,
   "metadata": {},
   "outputs": [],
   "source": [
    "import numpy as np\n",
    "OUTDIR=\"/data/bacteria/experiments/autoencoders\"\n",
    "KMER=6\n",
    "xq = np.load(f\"{OUTDIR}/{KMER}mer/faiss-embeddings/query_embeddings.npy\").astype(\"float32\")\n"
   ]
  },
  {
   "cell_type": "code",
   "execution_count": 12,
   "metadata": {},
   "outputs": [],
   "source": [
    "import json\n"
   ]
  },
  {
   "cell_type": "code",
   "execution_count": 40,
   "metadata": {},
   "outputs": [],
   "source": [
    "df_labels = pd.read_csv(\"/data/bacteria/experiments/autoencoders/6mer/test/closest_species.tsv\",sep=\"\\t\", usecols=[\"GT\",\"consensus\"])"
   ]
  },
  {
   "cell_type": "code",
   "execution_count": 51,
   "metadata": {},
   "outputs": [],
   "source": [
    "from pathlib import Path\n",
    "from collections import namedtuple\n",
    "\n",
    "Phoenix=namedtuple(\"Phoenix\",[\"id\",\"path_img\",\"link_img\",\"label\",\"vector_img\"])\n",
    "data_phoenix = []\n",
    "\n",
    "with open(f\"{OUTDIR}/{KMER}mer/faiss-embeddings/query_embeddings.json\") as fp:\n",
    "    id_query = json.load(fp)\n",
    "    id_query = {int(k): v for k,v in id_query.items()}\n",
    "\n",
    "REPLACE=\"/data/bacteria/experiments/autoencoders\"\n",
    "for idx, path_npy in id_query.items():\n",
    "    _id = Path(path_npy).stem\n",
    "    path_img = path_npy.replace(\"fcgr\",\"img\").replace(\".npy\",\".jpeg\")\n",
    "    link_img = path_img.replace(REPLACE,\"http://localhost:6007\") # I choose the port 6007, and I need to run `python -m http.server 6007` in the REPLACE directory\n",
    "    label = Path(path_img).parent.stem.split(\"__\")[0]\n",
    "    embedding = xq[idx]\n",
    "    data_phoenix.append(\n",
    "        Phoenix(_id, path_img, link_img, label, embedding)\n",
    "    )\n",
    "    "
   ]
  },
  {
   "cell_type": "code",
   "execution_count": 52,
   "metadata": {},
   "outputs": [
    {
     "data": {
      "text/html": [
       "<div>\n",
       "<style scoped>\n",
       "    .dataframe tbody tr th:only-of-type {\n",
       "        vertical-align: middle;\n",
       "    }\n",
       "\n",
       "    .dataframe tbody tr th {\n",
       "        vertical-align: top;\n",
       "    }\n",
       "\n",
       "    .dataframe thead th {\n",
       "        text-align: right;\n",
       "    }\n",
       "</style>\n",
       "<table border=\"1\" class=\"dataframe\">\n",
       "  <thead>\n",
       "    <tr style=\"text-align: right;\">\n",
       "      <th></th>\n",
       "      <th>id</th>\n",
       "      <th>path_img</th>\n",
       "      <th>link_img</th>\n",
       "      <th>label</th>\n",
       "      <th>vector_img</th>\n",
       "      <th>GT</th>\n",
       "      <th>consensus</th>\n",
       "    </tr>\n",
       "  </thead>\n",
       "  <tbody>\n",
       "    <tr>\n",
       "      <th>0</th>\n",
       "      <td>SAMD00109104</td>\n",
       "      <td>/data/bacteria/experiments/autoencoders/6mer/i...</td>\n",
       "      <td>http://localhost:6007/6mer/img/pseudomonas_aer...</td>\n",
       "      <td>pseudomonas_aeruginosa</td>\n",
       "      <td>[301.30157, 0.0, 143.3061, 299.01096, 0.0, 0.0...</td>\n",
       "      <td>pseudomonas_aeruginosa</td>\n",
       "      <td>pseudomonas_aeruginosa</td>\n",
       "    </tr>\n",
       "    <tr>\n",
       "      <th>1</th>\n",
       "      <td>SAMN07421883</td>\n",
       "      <td>/data/bacteria/experiments/autoencoders/6mer/i...</td>\n",
       "      <td>http://localhost:6007/6mer/img/haemophilus_inf...</td>\n",
       "      <td>haemophilus_influenzae</td>\n",
       "      <td>[169.97614, 0.0, 141.93373, 0.0, 0.0, 0.0, 0.0...</td>\n",
       "      <td>haemophilus_influenzae</td>\n",
       "      <td>haemophilus_influenzae</td>\n",
       "    </tr>\n",
       "    <tr>\n",
       "      <th>2</th>\n",
       "      <td>SAMEA4427151</td>\n",
       "      <td>/data/bacteria/experiments/autoencoders/6mer/i...</td>\n",
       "      <td>http://localhost:6007/6mer/img/enterobacter_ho...</td>\n",
       "      <td>enterobacter_hormaechei</td>\n",
       "      <td>[0.0, 0.0, 238.53975, 0.0, 0.0, 0.0, 0.0, 416....</td>\n",
       "      <td>enterobacter_hormaechei</td>\n",
       "      <td>enterobacter_hormaeche</td>\n",
       "    </tr>\n",
       "    <tr>\n",
       "      <th>3</th>\n",
       "      <td>SAMEA2239764</td>\n",
       "      <td>/data/bacteria/experiments/autoencoders/6mer/i...</td>\n",
       "      <td>http://localhost:6007/6mer/img/clostridioides_...</td>\n",
       "      <td>clostridioides_difficile</td>\n",
       "      <td>[285.54553, 0.0, 0.0, 0.0, 1426.2489, 184.0323...</td>\n",
       "      <td>clostridioides_difficile</td>\n",
       "      <td>clostridioides_diffici</td>\n",
       "    </tr>\n",
       "    <tr>\n",
       "      <th>4</th>\n",
       "      <td>SAMN01047745</td>\n",
       "      <td>/data/bacteria/experiments/autoencoders/6mer/i...</td>\n",
       "      <td>http://localhost:6007/6mer/img/brucella_suis__...</td>\n",
       "      <td>brucella_suis</td>\n",
       "      <td>[0.0, 0.0, 0.0, 0.0, 0.0, 0.0, 0.0, 0.0, 0.0, ...</td>\n",
       "      <td>brucella_suis</td>\n",
       "      <td>brucella_suis</td>\n",
       "    </tr>\n",
       "  </tbody>\n",
       "</table>\n",
       "</div>"
      ],
      "text/plain": [
       "             id                                           path_img  \\\n",
       "0  SAMD00109104  /data/bacteria/experiments/autoencoders/6mer/i...   \n",
       "1  SAMN07421883  /data/bacteria/experiments/autoencoders/6mer/i...   \n",
       "2  SAMEA4427151  /data/bacteria/experiments/autoencoders/6mer/i...   \n",
       "3  SAMEA2239764  /data/bacteria/experiments/autoencoders/6mer/i...   \n",
       "4  SAMN01047745  /data/bacteria/experiments/autoencoders/6mer/i...   \n",
       "\n",
       "                                            link_img  \\\n",
       "0  http://localhost:6007/6mer/img/pseudomonas_aer...   \n",
       "1  http://localhost:6007/6mer/img/haemophilus_inf...   \n",
       "2  http://localhost:6007/6mer/img/enterobacter_ho...   \n",
       "3  http://localhost:6007/6mer/img/clostridioides_...   \n",
       "4  http://localhost:6007/6mer/img/brucella_suis__...   \n",
       "\n",
       "                      label  \\\n",
       "0    pseudomonas_aeruginosa   \n",
       "1    haemophilus_influenzae   \n",
       "2   enterobacter_hormaechei   \n",
       "3  clostridioides_difficile   \n",
       "4             brucella_suis   \n",
       "\n",
       "                                          vector_img  \\\n",
       "0  [301.30157, 0.0, 143.3061, 299.01096, 0.0, 0.0...   \n",
       "1  [169.97614, 0.0, 141.93373, 0.0, 0.0, 0.0, 0.0...   \n",
       "2  [0.0, 0.0, 238.53975, 0.0, 0.0, 0.0, 0.0, 416....   \n",
       "3  [285.54553, 0.0, 0.0, 0.0, 1426.2489, 184.0323...   \n",
       "4  [0.0, 0.0, 0.0, 0.0, 0.0, 0.0, 0.0, 0.0, 0.0, ...   \n",
       "\n",
       "                         GT               consensus  \n",
       "0    pseudomonas_aeruginosa  pseudomonas_aeruginosa  \n",
       "1    haemophilus_influenzae  haemophilus_influenzae  \n",
       "2   enterobacter_hormaechei  enterobacter_hormaeche  \n",
       "3  clostridioides_difficile  clostridioides_diffici  \n",
       "4             brucella_suis           brucella_suis  "
      ]
     },
     "execution_count": 52,
     "metadata": {},
     "output_type": "execute_result"
    }
   ],
   "source": [
    "train_df = pd.concat([pd.DataFrame(data_phoenix), df_labels],axis=1)\n",
    "train_df.head()"
   ]
  },
  {
   "cell_type": "code",
   "execution_count": 53,
   "metadata": {},
   "outputs": [],
   "source": [
    "# Define schemas that tell Phoenix which columns of your DataFrames correspond to features, predictions, actuals (i.e., ground truth), embeddings, etc.\n",
    "train_schema = px.Schema(\n",
    "    prediction_id_column_name=\"id\",\n",
    "    # timestamp_column_name=\"prediction_ts\",\n",
    "    prediction_label_column_name=\"consensus\",\n",
    "    actual_label_column_name=\"GT\",\n",
    "    embedding_feature_column_names={\n",
    "        \"image_embedding\": px.EmbeddingColumnNames(\n",
    "            vector_column_name=\"vector_img\",\n",
    "            link_to_data_column_name=\"link_img\",\n",
    "        ),\n",
    "    },\n",
    ")"
   ]
  },
  {
   "cell_type": "code",
   "execution_count": 3,
   "metadata": {},
   "outputs": [],
   "source": [
    "# # Download curated datasets and load them into pandas DataFrames.\n",
    "# train_df = pd.read_parquet(\n",
    "#     \"https://storage.googleapis.com/arize-assets/phoenix/datasets/unstructured/cv/human-actions/human_actions_training.parquet\"\n",
    "# )"
   ]
  },
  {
   "cell_type": "code",
   "execution_count": 5,
   "metadata": {},
   "outputs": [],
   "source": [
    "# prod_df = pd.read_parquet(\n",
    "#     \"https://storage.googleapis.com/arize-assets/phoenix/datasets/unstructured/cv/human-actions/human_actions_production.parquet\"\n",
    "# )"
   ]
  },
  {
   "cell_type": "code",
   "execution_count": 54,
   "metadata": {},
   "outputs": [
    {
     "name": "stderr",
     "output_type": "stream",
     "text": [
      "Existing running Phoenix instance detected! Shutting it down and starting a new instance...\n"
     ]
    },
    {
     "name": "stdout",
     "output_type": "stream",
     "text": [
      "🌍 To view the Phoenix app in your browser, visit http://127.0.0.1:6006/\n",
      "📺 To view the Phoenix app in a notebook, run `px.active_session().view()`\n",
      "📖 For more information on how to use Phoenix, check out https://docs.arize.com/phoenix\n",
      "📺 Opening a view to the Phoenix app. The app is running at http://127.0.0.1:6006/\n"
     ]
    },
    {
     "data": {
      "text/html": [
       "\n",
       "        <iframe\n",
       "            width=\"100%\"\n",
       "            height=\"1000\"\n",
       "            src=\"http://127.0.0.1:6006/\"\n",
       "            frameborder=\"0\"\n",
       "            allowfullscreen\n",
       "            \n",
       "        ></iframe>\n",
       "        "
      ],
      "text/plain": [
       "<IPython.lib.display.IFrame at 0x7ff2e3f96f10>"
      ]
     },
     "execution_count": 54,
     "metadata": {},
     "output_type": "execute_result"
    },
    {
     "name": "stderr",
     "output_type": "stream",
     "text": [
      "/home/avila/micromamba/envs/phoenix/lib/python3.11/site-packages/phoenix/server/api/types/EmbeddingDimension.py:422: FutureWarning: Series.__getitem__ treating keys as positions is deprecated. In a future version, integer keys will always be treated as labels (consistent with DataFrame behavior). To access a value by position, use `ser.iloc[pos]`\n",
      "  prediction_id=dataset[PREDICTION_ID][row_id],\n",
      "/home/avila/micromamba/envs/phoenix/lib/python3.11/site-packages/phoenix/server/api/types/EmbeddingDimension.py:423: FutureWarning: Series.__getitem__ treating keys as positions is deprecated. In a future version, integer keys will always be treated as labels (consistent with DataFrame behavior). To access a value by position, use `ser.iloc[pos]`\n",
      "  link_to_data=dataset[self.dimension.link_to_data][row_id],\n",
      "/home/avila/micromamba/envs/phoenix/lib/python3.11/site-packages/phoenix/server/api/types/EmbeddingDimension.py:424: FutureWarning: Series.__getitem__ treating keys as positions is deprecated. In a future version, integer keys will always be treated as labels (consistent with DataFrame behavior). To access a value by position, use `ser.iloc[pos]`\n",
      "  raw_data=dataset[self.dimension.raw_data][row_id],\n",
      "/home/avila/micromamba/envs/phoenix/lib/python3.11/site-packages/phoenix/server/api/types/EmbeddingDimension.py:442: FutureWarning: Series.__getitem__ treating keys as positions is deprecated. In a future version, integer keys will always be treated as labels (consistent with DataFrame behavior). To access a value by position, use `ser.iloc[pos]`\n",
      "  prediction_label=dataset[PREDICTION_LABEL][row_id],\n",
      "/home/avila/micromamba/envs/phoenix/lib/python3.11/site-packages/phoenix/server/api/types/EmbeddingDimension.py:443: FutureWarning: Series.__getitem__ treating keys as positions is deprecated. In a future version, integer keys will always be treated as labels (consistent with DataFrame behavior). To access a value by position, use `ser.iloc[pos]`\n",
      "  prediction_score=dataset[PREDICTION_SCORE][row_id],\n",
      "/home/avila/micromamba/envs/phoenix/lib/python3.11/site-packages/phoenix/server/api/types/EmbeddingDimension.py:444: FutureWarning: Series.__getitem__ treating keys as positions is deprecated. In a future version, integer keys will always be treated as labels (consistent with DataFrame behavior). To access a value by position, use `ser.iloc[pos]`\n",
      "  actual_label=dataset[ACTUAL_LABEL][row_id],\n",
      "/home/avila/micromamba/envs/phoenix/lib/python3.11/site-packages/phoenix/server/api/types/EmbeddingDimension.py:445: FutureWarning: Series.__getitem__ treating keys as positions is deprecated. In a future version, integer keys will always be treated as labels (consistent with DataFrame behavior). To access a value by position, use `ser.iloc[pos]`\n",
      "  actual_score=dataset[ACTUAL_SCORE][row_id],\n"
     ]
    }
   ],
   "source": [
    "# Define schemas that tell Phoenix which columns of your DataFrames correspond to features, predictions, actuals (i.e., ground truth), embeddings, etc.\n",
    "# train_schema = px.Schema(\n",
    "#     prediction_id_column_name=\"prediction_id\",\n",
    "#     timestamp_column_name=\"prediction_ts\",\n",
    "#     prediction_label_column_name=\"predicted_action\",\n",
    "#     actual_label_column_name=\"actual_action\",\n",
    "#     embedding_feature_column_names={\n",
    "#         \"image_embedding\": px.EmbeddingColumnNames(\n",
    "#             vector_column_name=\"image_vector\",\n",
    "#             link_to_data_column_name=\"url\",\n",
    "#         ),\n",
    "#     },\n",
    "# )\n",
    "# prod_schema = replace(train_schema, actual_label_column_name=None)\n",
    "\n",
    "# Define your production and training datasets.\n",
    "# prod_ds = px.Dataset(prod_df, prod_schema)\n",
    "train_ds = px.Dataset(train_df, train_schema)\n",
    "\n",
    "# Launch Phoenix.\n",
    "session = px.launch_app(\n",
    "    # prod_ds, \n",
    "    train_ds\n",
    "    )\n",
    "\n",
    "# View the Phoenix UI in the browser\n",
    "# session.url\n",
    "px.active_session().view()"
   ]
  },
  {
   "cell_type": "code",
   "execution_count": null,
   "metadata": {},
   "outputs": [],
   "source": []
  }
 ],
 "metadata": {
  "kernelspec": {
   "display_name": "phoenix",
   "language": "python",
   "name": "python3"
  },
  "language_info": {
   "codemirror_mode": {
    "name": "ipython",
    "version": 3
   },
   "file_extension": ".py",
   "mimetype": "text/x-python",
   "name": "python",
   "nbconvert_exporter": "python",
   "pygments_lexer": "ipython3",
   "version": "3.11.7"
  }
 },
 "nbformat": 4,
 "nbformat_minor": 2
}
