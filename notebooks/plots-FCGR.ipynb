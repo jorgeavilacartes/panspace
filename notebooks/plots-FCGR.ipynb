{
 "cells": [
  {
   "cell_type": "code",
   "execution_count": null,
   "metadata": {},
   "outputs": [],
   "source": [
    "import json\n",
    "import numpy as np\n",
    "import pandas as pd\n",
    "import pathlib\n",
    "from pathlib import Path\n",
    "from complexcgr import FCGR\n",
    "\n",
    "KMER = 6"
   ]
  },
  {
   "cell_type": "code",
   "execution_count": null,
   "metadata": {},
   "outputs": [],
   "source": []
  },
  {
   "cell_type": "code",
   "execution_count": null,
   "metadata": {},
   "outputs": [],
   "source": [
    "path=\"/data/bacteria/experiments/autoencoders/6mer/fcgr/dustbin__10/SAMN02744650.npy\" \n",
    "m = np.load(path) \n",
    "FCGR(6).plot(m)"
   ]
  },
  {
   "cell_type": "code",
   "execution_count": null,
   "metadata": {},
   "outputs": [],
   "source": [
    "KMER = 12\n",
    "with open(f\"precomputed_fcgr_{KMER}mer.json\",\"w\") as fp:\n",
    "    json.dump(\n",
    "        FCGR(KMER).kmer2pixel, fp, indent=4\n",
    "    )\n",
    "    "
   ]
  },
  {
   "cell_type": "code",
   "execution_count": null,
   "metadata": {},
   "outputs": [],
   "source": [
    "m = np.load(\"/data/bacteria/test-experiments/6mer/fcgr/vibrio_cholerae__01/SAMD00006230.npy\") \n",
    "m=np.load(\"/data/bacteria/experiments/autoencoders/6mer/fcgr/burkholderia_pseudomallei__01/SAMEA949364.npy\")\n",
    "m"
   ]
  },
  {
   "cell_type": "code",
   "execution_count": null,
   "metadata": {},
   "outputs": [],
   "source": [
    "FCGR(6).plot(m)"
   ]
  },
  {
   "cell_type": "code",
   "execution_count": null,
   "metadata": {},
   "outputs": [],
   "source": [
    "FCGR(6).save_img(m, path=\"../plots/paper/burkholderia_pseudomallei__01-SAMEA949364.jpg\")"
   ]
  },
  {
   "cell_type": "code",
   "execution_count": null,
   "metadata": {},
   "outputs": [],
   "source": [
    "m=np.load(\"/data/bacteria/experiments/autoencoders/6mer/fcgr/burkholderia_multivorans__01/SAMEA3924732.npy\")\n",
    "FCGR(6).plot(m)"
   ]
  },
  {
   "cell_type": "code",
   "execution_count": null,
   "metadata": {},
   "outputs": [],
   "source": [
    "FCGR(6).save_img(m, path=\"../plots/paper/burkholderia_multivorans__01-SAMEA3924732.jpg\")"
   ]
  },
  {
   "cell_type": "markdown",
   "metadata": {},
   "source": [
    "___\n",
    "Interpolation"
   ]
  },
  {
   "cell_type": "code",
   "execution_count": null,
   "metadata": {},
   "outputs": [],
   "source": [
    "list_imgs = list(pathlib.Path(\"../preds/decoder/\").rglob(\"chlamydia*.npy\"))\n",
    "# list_imgs = sorted(list_imgs, key=lambda p: int(p.stem.split(\"-\")[-1]))\n",
    "# list_imgs\n",
    "list_imgs[0]"
   ]
  },
  {
   "cell_type": "code",
   "execution_count": null,
   "metadata": {},
   "outputs": [],
   "source": [
    "# all_inputs = [np.load(p) for p in list_imgs]\n",
    "all_inputs = np.load(list_imgs[0])"
   ]
  },
  {
   "cell_type": "code",
   "execution_count": null,
   "metadata": {},
   "outputs": [],
   "source": [
    "ncols = 5\n",
    "nrows = int(len(all_inputs) / ncols) + 1   "
   ]
  },
  {
   "cell_type": "code",
   "execution_count": null,
   "metadata": {},
   "outputs": [],
   "source": [
    "import matplotlib.pyplot as plt\n",
    "from mpl_toolkits.axes_grid1 import ImageGrid\n",
    "fig = plt.figure(1,(12,20))\n",
    "grid = ImageGrid(fig, 111,\n",
    "                 nrows_ncols=(nrows,ncols),\n",
    "                 axes_pad=0.1,\n",
    "                 )\n",
    "\n",
    "for j, inp in enumerate(all_inputs):\n",
    "    grid[j].imshow(FCGR(6).plot(inp),'gray',)\n",
    "    "
   ]
  },
  {
   "cell_type": "markdown",
   "metadata": {},
   "source": [
    "___"
   ]
  },
  {
   "cell_type": "code",
   "execution_count": null,
   "metadata": {},
   "outputs": [],
   "source": [
    "all_inputs=np.load(Path(\"../preds/inputs.npy\"))\n",
    "all_outputs=np.load(Path(\"../preds/outpuss.npy\"))"
   ]
  },
  {
   "cell_type": "code",
   "execution_count": null,
   "metadata": {},
   "outputs": [],
   "source": [
    "FCGR(6).plot(all_inputs[0])"
   ]
  },
  {
   "cell_type": "code",
   "execution_count": null,
   "metadata": {},
   "outputs": [],
   "source": [
    "img=FCGR(6).plot(all_outputs[0])\n",
    "type(img)"
   ]
  },
  {
   "cell_type": "markdown",
   "metadata": {},
   "source": [
    "Images from autoencoder`left`: inputs `right`: outputs"
   ]
  },
  {
   "cell_type": "code",
   "execution_count": null,
   "metadata": {},
   "outputs": [],
   "source": [
    "import matplotlib.pyplot as plt\n",
    "from mpl_toolkits.axes_grid1 import ImageGrid\n",
    "fig = plt.figure(1,(20,30))\n",
    "grid = ImageGrid(fig, 111,\n",
    "                 nrows_ncols=(20,2),\n",
    "                 axes_pad=0.1,\n",
    "                 )\n",
    "i=0\n",
    "for inp, out in zip(all_inputs, all_outputs):\n",
    "    grid[i].imshow(FCGR(6).plot(inp),'gray',)\n",
    "    grid[i+1].imshow(FCGR(6).plot(out),'gray',)\n",
    "    i+=2\n",
    "    "
   ]
  },
  {
   "cell_type": "markdown",
   "metadata": {},
   "source": [
    "___\n",
    "### Visualize a set of images"
   ]
  },
  {
   "cell_type": "code",
   "execution_count": null,
   "metadata": {},
   "outputs": [],
   "source": [
    "import matplotlib.pyplot as plt\n",
    "from PIL.Image import Image as PilImage\n",
    "import textwrap, os\n",
    "\n",
    "def display_images(\n",
    "    images, k, \n",
    "    columns=5, width=25, height=8, max_images=30, \n",
    "    label_wrap_length=50, label_font_size=15,\n",
    "    path_save=None):\n",
    "\n",
    "    if not images:\n",
    "        print(\"No images to display.\")\n",
    "        return \n",
    "\n",
    "    if len(images) > max_images:\n",
    "        print(f\"Showing {max_images} images of {len(images)}:\")\n",
    "        images=images[0:max_images]\n",
    "\n",
    "    # height = max(height, int(len(images)/columns) * height)\n",
    "    fig = plt.figure(figsize=(width, height))\n",
    "    fig.subplots_adjust(hspace=.3)\n",
    "\n",
    "    for i, image in enumerate(images):\n",
    "\n",
    "        plt.subplot(int(len(images) / columns + 1), columns, i + 1)\n",
    "        m=np.load(image)\n",
    "        plt.imshow(FCGR(k).array2img(m),\"gray\")\n",
    "\n",
    "        # if hasattr(image, 'filename'):\n",
    "        title=Path(image).parent.stem.split(\"__\")[0] + \"|\" + Path(image).stem \n",
    "        if title.endswith(\"/\"): title = title[0:-1]\n",
    "        title=os.path.basename(title)\n",
    "        title=textwrap.wrap(title, label_wrap_length)\n",
    "        title=\"\\n\".join(title)\n",
    "        plt.title(title, fontsize=label_font_size)\n",
    "    \n",
    "    plt.tight_layout()\n",
    "    \n",
    "    if path_save:\n",
    "        Path(path_save).parent.mkdir(exist_ok=True, parents=True)\n",
    "        fig.savefig(path_save, dpi=300)\n",
    "    # plt.close(fig)"
   ]
  },
  {
   "cell_type": "markdown",
   "metadata": {},
   "source": [
    "___\n",
    "### Outliers Train\n",
    "From `notebooks/clean-lab.ipynb`"
   ]
  },
  {
   "cell_type": "code",
   "execution_count": null,
   "metadata": {},
   "outputs": [],
   "source": [
    "PATH_EXP = Path(\"/data/bacteria/experiments/autoencoders/6mer/27122023-5\")\n",
    "imgs_train = pd.read_csv( PATH_EXP.joinpath(\"test/outliers-train.csv\"))\n",
    "imgs_train[\"name\"] = imgs_train.path_npy.apply(lambda p: pathlib.Path(p).parent.stem.split(\"__\")[0])\n",
    "imgs_train = imgs_train.sort_values(by=\"name\")[\"path_npy\"].tolist()"
   ]
  },
  {
   "cell_type": "code",
   "execution_count": null,
   "metadata": {},
   "outputs": [],
   "source": [
    "display_images(imgs_train, k=KMER, \n",
    "            columns=5, width=17, height=8, max_images=10, \n",
    "            label_wrap_length=50, label_font_size=11,\n",
    "            path_save=f\"../plots/{KMER}mers/complexcgr-readme.png\")"
   ]
  },
  {
   "cell_type": "code",
   "execution_count": null,
   "metadata": {},
   "outputs": [],
   "source": [
    "display_images(imgs_train[30:], k=KMER, max_images=30, path_save=f\"../plots/{KMER}mers/outliers-train_31-60.png\")"
   ]
  },
  {
   "cell_type": "code",
   "execution_count": null,
   "metadata": {},
   "outputs": [],
   "source": [
    "display_images(imgs_train[60:], k=KMER, max_images=30, path_save=f\"../plots/{KMER}mers/outliers-train_61-90.png\")"
   ]
  },
  {
   "cell_type": "code",
   "execution_count": null,
   "metadata": {},
   "outputs": [],
   "source": [
    "display_images(imgs_train[90:], k=KMER, max_images=30, path_save=f\"../plots/{KMER}mers/outliers-train_91-100.png\")"
   ]
  },
  {
   "cell_type": "markdown",
   "metadata": {},
   "source": [
    "### Plot outliers in the  train set, include random examples from the same species"
   ]
  },
  {
   "cell_type": "code",
   "execution_count": null,
   "metadata": {},
   "outputs": [],
   "source": [
    "from collections import defaultdict\n",
    "paths_by_specie = defaultdict(list)\n",
    "\n",
    "PATH_FCGR=Path(\"/data/bacteria/experiments/autoencoders/6mer/fcgr/\")\n",
    "for path in imgs_train:\n",
    "    name = Path(path).parent.stem.split(\"__\")[0]\n",
    "    paths_by_specie[name].append(path)\n",
    "\n",
    "# step = 0\n",
    "for name, list_paths in paths_by_specie.items():\n",
    "    \n",
    "    imgs = [p for p in Path(PATH_FCGR).joinpath(f\"{name}__01\").rglob(\"*.npy\") if str(p) not in list_paths]\n",
    "    \n",
    "    print(f\"{name} | {len(list_paths)} outliers | {len(imgs)} availables\" )\n",
    "    \n",
    "    # for path in list_paths:\n",
    "    imgs = list_paths + imgs\n",
    "\n",
    "    display_images(imgs, k=KMER, max_images=20, path_save=f\"../plots/{KMER}mers/outliers/train-{name}.png\")\n",
    "    \n",
    "    # step +=1 \n",
    "    # if step > 0: break\n",
    " "
   ]
  },
  {
   "cell_type": "markdown",
   "metadata": {},
   "source": [
    "___\n",
    "### Outliers Test\n",
    "From `notebooks/clean-lab.ipynb`"
   ]
  },
  {
   "cell_type": "code",
   "execution_count": null,
   "metadata": {},
   "outputs": [],
   "source": [
    "PATH_EXP = Path(\"/data/bacteria/experiments/autoencoders/6mer/27122023-5\")\n",
    "imgs_test = pd.read_csv( PATH_EXP.joinpath(\"test/outliers-test.csv\"))\n",
    "imgs_test[\"name\"] = imgs_test.path_npy.apply(lambda p: pathlib.Path(p).parent.stem.split(\"__\")[0])\n",
    "imgs_test = imgs_test.sort_values(by=\"name\")[\"path_npy\"].tolist()"
   ]
  },
  {
   "cell_type": "code",
   "execution_count": null,
   "metadata": {},
   "outputs": [],
   "source": [
    "display_images(imgs_test, k=KMER, max_images=30, path_save=f\"../plots/{KMER}mers/outliers-test.png\")"
   ]
  },
  {
   "cell_type": "markdown",
   "metadata": {},
   "source": [
    "### Plot outliers in the  test set, include random examples from the same species"
   ]
  },
  {
   "cell_type": "code",
   "execution_count": null,
   "metadata": {},
   "outputs": [],
   "source": [
    "paths_by_specie = defaultdict(list)\n",
    "\n",
    "PATH_FCGR=Path(\"/data/bacteria/experiments/autoencoders/6mer/fcgr/\")\n",
    "for path in imgs_test:\n",
    "    name = Path(path).parent.stem.split(\"__\")[0]\n",
    "    paths_by_specie[name].append(path)\n",
    "\n",
    "for name, list_paths in paths_by_specie.items():\n",
    "    imgs = [p for p in Path(PATH_FCGR).rglob(f\"{name}*/*.npy\") if str(p) not in list_paths]\n",
    "    \n",
    "    # for path in list_paths:\n",
    "    imgs = list_paths + imgs\n",
    "\n",
    "    display_images(imgs, k=KMER, max_images=20, path_save=f\"../plots/{KMER}mers/outliers/test-{name}.png\")"
   ]
  },
  {
   "cell_type": "markdown",
   "metadata": {},
   "source": [
    "___\n",
    "### Plot for one species in particular"
   ]
  },
  {
   "cell_type": "code",
   "execution_count": null,
   "metadata": {},
   "outputs": [],
   "source": [
    "name = \"enterococcus_faecalis\"\n",
    "imgs = list(Path(f'/data/bacteria/experiments/autoencoders/6mer/fcgr/{name}__01/').rglob(\"*.npy\"))\n",
    "display_images(imgs, k=KMER, max_images=30, path_save=f\"../plots/{KMER}mers/{name}.png\")"
   ]
  },
  {
   "cell_type": "markdown",
   "metadata": {},
   "source": [
    "___\n",
    "___\n",
    "# Plot one sample per species"
   ]
  },
  {
   "cell_type": "code",
   "execution_count": null,
   "metadata": {},
   "outputs": [],
   "source": [
    "from pathlib  import Path\n",
    "KMER=6\n",
    "\n",
    "imgs = [str(img) for img in list(Path(f\"/data/bacteria/autoencoder-experiments/{KMER}mers/fcgr/\").rglob(\"*npy\"))]\n"
   ]
  },
  {
   "cell_type": "code",
   "execution_count": null,
   "metadata": {},
   "outputs": [],
   "source": [
    "from collections import defaultdict\n",
    "\n",
    "path_by_species = defaultdict(list)\n",
    "for img in imgs:\n",
    "    name_species=Path(img).parent.stem.split(\"__\")[0]\n",
    "    path_by_species[name_species].append(img)\n",
    "len(path_by_species)"
   ]
  },
  {
   "cell_type": "code",
   "execution_count": null,
   "metadata": {},
   "outputs": [],
   "source": [
    "img_display = [paths[0] for name, paths in path_by_species.items()]\n",
    "len(img_display)"
   ]
  },
  {
   "cell_type": "code",
   "execution_count": null,
   "metadata": {},
   "outputs": [],
   "source": []
  },
  {
   "cell_type": "code",
   "execution_count": null,
   "metadata": {},
   "outputs": [],
   "source": [
    "display_images(img_display, k=KMER, \n",
    "            columns=5, width=17, height=8, max_images=10, \n",
    "            label_wrap_length=50, label_font_size=10,\n",
    "            path_save=f\"../plots/{KMER}mers/complexcgr-readme.png\")"
   ]
  },
  {
   "cell_type": "code",
   "execution_count": null,
   "metadata": {},
   "outputs": [],
   "source": [
    "display_images(img_display, k=KMER, max_images=30, path_save=f\"../plots/{KMER}mers/outliers-bacteria_1-30.png\")"
   ]
  },
  {
   "cell_type": "code",
   "execution_count": null,
   "metadata": {},
   "outputs": [],
   "source": [
    "display_images(img_display[30:], k=KMER, max_images=30, path_save=f\"../plots/{KMER}mers/bacteria_31-60.png\")"
   ]
  },
  {
   "cell_type": "code",
   "execution_count": null,
   "metadata": {},
   "outputs": [],
   "source": [
    "display_images(img_display[60:], k=KMER, max_images=30, path_save=f\"../plots/{KMER}mers/bacteria_61-90.png\")"
   ]
  },
  {
   "cell_type": "code",
   "execution_count": null,
   "metadata": {},
   "outputs": [],
   "source": [
    "display_images(img_display[90:], k=KMER, max_images=30, path_save=f\"../plots/{KMER}mers/bacteria_91-120.png\")"
   ]
  },
  {
   "cell_type": "code",
   "execution_count": null,
   "metadata": {},
   "outputs": [],
   "source": [
    "display_images(img_display[120:], k=KMER, max_images=30, path_save=f\"../plots/{KMER}mers/bacteria_121-end.png\")"
   ]
  }
 ],
 "metadata": {
  "kernelspec": {
   "display_name": "env",
   "language": "python",
   "name": "python3"
  },
  "language_info": {
   "codemirror_mode": {
    "name": "ipython",
    "version": 3
   },
   "file_extension": ".py",
   "mimetype": "text/x-python",
   "name": "python",
   "nbconvert_exporter": "python",
   "pygments_lexer": "ipython3",
   "version": "3.11.0"
  },
  "orig_nbformat": 4,
  "vscode": {
   "interpreter": {
    "hash": "5d34d19a851a51f4985863cafa39facdc95257f5767b998f71038c013a0d1c5e"
   }
  }
 },
 "nbformat": 4,
 "nbformat_minor": 2
}
