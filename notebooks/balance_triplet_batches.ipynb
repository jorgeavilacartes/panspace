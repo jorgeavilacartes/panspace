{
 "cells": [
  {
   "cell_type": "code",
   "execution_count": 4,
   "metadata": {},
   "outputs": [
    {
     "name": "stderr",
     "output_type": "stream",
     "text": [
      "2024-10-04 14:07:44.426588: I tensorflow/core/util/port.cc:113] oneDNN custom operations are on. You may see slightly different numerical results due to floating-point round-off errors from different computation orders. To turn them off, set the environment variable `TF_ENABLE_ONEDNN_OPTS=0`.\n",
      "2024-10-04 14:07:44.620058: E external/local_xla/xla/stream_executor/cuda/cuda_dnn.cc:9261] Unable to register cuDNN factory: Attempting to register factory for plugin cuDNN when one has already been registered\n",
      "2024-10-04 14:07:44.620116: E external/local_xla/xla/stream_executor/cuda/cuda_fft.cc:607] Unable to register cuFFT factory: Attempting to register factory for plugin cuFFT when one has already been registered\n",
      "2024-10-04 14:07:44.656061: E external/local_xla/xla/stream_executor/cuda/cuda_blas.cc:1515] Unable to register cuBLAS factory: Attempting to register factory for plugin cuBLAS when one has already been registered\n",
      "2024-10-04 14:07:44.722077: I tensorflow/core/platform/cpu_feature_guard.cc:182] This TensorFlow binary is optimized to use available CPU instructions in performance-critical operations.\n",
      "To enable the following instructions: AVX2 AVX512F AVX512_VNNI AVX512_BF16 FMA, in other operations, rebuild TensorFlow with the appropriate compiler flags.\n",
      "2024-10-04 14:07:45.329832: W tensorflow/compiler/tf2tensorrt/utils/py_utils.cc:38] TF-TRT Warning: Could not find TensorRT\n"
     ]
    }
   ],
   "source": [
    "import random\n",
    "import numpy as np \n",
    "import tensorflow as tf\n",
    "\n",
    "from pathlib import Path\n",
    "\n",
    "from panspace.dnn.loaders.balanced_triplet_batches import generator_balanced_triplet_batches"
   ]
  },
  {
   "cell_type": "code",
   "execution_count": 6,
   "metadata": {},
   "outputs": [
    {
     "data": {
      "text/plain": [
       "[2, 2, 1, 2, 1, 1, 1, 2, 2, 2]"
      ]
     },
     "execution_count": 6,
     "metadata": {},
     "output_type": "execute_result"
    }
   ],
   "source": [
    "random.choices([1,2],k=10)"
   ]
  },
  {
   "cell_type": "code",
   "execution_count": 6,
   "metadata": {},
   "outputs": [],
   "source": [
    "num_classes_per_batch = 2\n",
    "batch_size = 8\n",
    "\n",
    "data_dict = {\n",
    "    'salmonella_enterica': [\n",
    "            \"/home/avila/github/panspace-paper/data/fcgr/6mer/salmonella_enterica__01/SAMD00003501.npy\",\n",
    "            \"/home/avila/github/panspace-paper/data/fcgr/6mer/salmonella_enterica__01/SAMD00003784.npy\",\n",
    "            \"/home/avila/github/panspace-paper/data/fcgr/6mer/salmonella_enterica__01/SAMD00003785.npy\",\n",
    "            \"/home/avila/github/panspace-paper/data/fcgr/6mer/salmonella_enterica__01/SAMD00003786.npy\",\n",
    "            \"/home/avila/github/panspace-paper/data/fcgr/6mer/salmonella_enterica__01/SAMD00003787.npy\",\n",
    "            \"/home/avila/github/panspace-paper/data/fcgr/6mer/salmonella_enterica__01/SAMD00003788.npy\",\n",
    "            \"/home/avila/github/panspace-paper/data/fcgr/6mer/salmonella_enterica__01/SAMD00003789.npy\",\n",
    "            \"/home/avila/github/panspace-paper/data/fcgr/6mer/salmonella_enterica__01/SAMD00003790.npy\",\n",
    "            \"/home/avila/github/panspace-paper/data/fcgr/6mer/salmonella_enterica__01/SAMD00003791.npy\",\n",
    "            \"/home/avila/github/panspace-paper/data/fcgr/6mer/salmonella_enterica__01/SAMD00003792.npy\",\n",
    "            \"/home/avila/github/panspace-paper/data/fcgr/6mer/salmonella_enterica__01/SAMD00003793.npy\",\n",
    "            \"/home/avila/github/panspace-paper/data/fcgr/6mer/salmonella_enterica__01/SAMD00008619.npy\",\n",
    "            \"/home/avila/github/panspace-paper/data/fcgr/6mer/salmonella_enterica__01/SAMD00008620.npy\",\n",
    "            \"/home/avila/github/panspace-paper/data/fcgr/6mer/salmonella_enterica__01/SAMD00008621.npy\",\n",
    "            \"/home/avila/github/panspace-paper/data/fcgr/6mer/salmonella_enterica__01/SAMD00008622.npy\",\n",
    "            \"/home/avila/github/panspace-paper/data/fcgr/6mer/salmonella_enterica__01/SAMD00008623.npy\",\n",
    "            \"/home/avila/github/panspace-paper/data/fcgr/6mer/salmonella_enterica__01/SAMD00008624.npy\",\n",
    "            ],\n",
    "    'mycobacterium_avium': [\n",
    "            \"/home/avila/github/panspace-paper/data/fcgr/6mer/mycobacterium_avium__01/SAMN07658593.npy\",\n",
    "            \"/home/avila/github/panspace-paper/data/fcgr/6mer/mycobacterium_avium__01/SAMN09758803.npy\",\n",
    "            \"/home/avila/github/panspace-paper/data/fcgr/6mer/mycobacterium_avium__01/SAMN03328536.npy\",\n",
    "            \"/home/avila/github/panspace-paper/data/fcgr/6mer/mycobacterium_avium__01/SAMN07659363.npy\",\n",
    "            \"/home/avila/github/panspace-paper/data/fcgr/6mer/mycobacterium_avium__01/SAMN07660205.npy\",\n",
    "            \"/home/avila/github/panspace-paper/data/fcgr/6mer/mycobacterium_avium__01/SAMN03225346.npy\",\n",
    "            \"/home/avila/github/panspace-paper/data/fcgr/6mer/mycobacterium_avium__01/SAMN03328524.npy\",\n",
    "            \"/home/avila/github/panspace-paper/data/fcgr/6mer/mycobacterium_avium__01/SAMN07658188.npy\",\n",
    "            \"/home/avila/github/panspace-paper/data/fcgr/6mer/mycobacterium_avium__01/SAMN03892587.npy\",\n",
    "            \"/home/avila/github/panspace-paper/data/fcgr/6mer/mycobacterium_avium__01/SAMN04634181.npy\",\n",
    "    ],\n",
    "    'mannheimia_haemolytica': [\n",
    "            \"/home/avila/github/panspace-paper/data/fcgr/6mer/mannheimia_haemolytica__01/SAMN05326414.npy\",\n",
    "            \"/home/avila/github/panspace-paper/data/fcgr/6mer/mannheimia_haemolytica__01/SAMN05326083.npy\",\n",
    "            \"/home/avila/github/panspace-paper/data/fcgr/6mer/mannheimia_haemolytica__01/SAMN05326110.npy\",\n",
    "            \"/home/avila/github/panspace-paper/data/fcgr/6mer/mannheimia_haemolytica__01/SAMN05325665.npy\",\n",
    "            \"/home/avila/github/panspace-paper/data/fcgr/6mer/mannheimia_haemolytica__01/SAMN05325620.npy\",\n",
    "            \"/home/avila/github/panspace-paper/data/fcgr/6mer/mannheimia_haemolytica__01/SAMN05326277.npy\",\n",
    "            \"/home/avila/github/panspace-paper/data/fcgr/6mer/mannheimia_haemolytica__01/SAMN05325557.npy\",\n",
    "    ]\n",
    "}\n"
   ]
  },
  {
   "cell_type": "code",
   "execution_count": 7,
   "metadata": {},
   "outputs": [],
   "source": [
    "generator = generator_balanced_triplet_batches(data_dict, batch_size, num_classes_per_batch)"
   ]
  },
  {
   "cell_type": "code",
   "execution_count": 8,
   "metadata": {},
   "outputs": [],
   "source": [
    "kmer = 6\n",
    "dataset = tf.data.Dataset.from_generator(\n",
    "    generator,\n",
    "    output_signature=(tf.TensorSpec((batch_size,2**kmer, 2**kmer, 1), dtype=tf.float32), tf.TensorSpec((batch_size,), dtype=tf.int8)\n",
    "))"
   ]
  },
  {
   "cell_type": "code",
   "execution_count": 9,
   "metadata": {},
   "outputs": [],
   "source": [
    "X,y = next(iter(dataset))\n"
   ]
  },
  {
   "cell_type": "code",
   "execution_count": 11,
   "metadata": {},
   "outputs": [
    {
     "data": {
      "text/plain": [
       "(TensorShape([8, 64, 64, 1]), TensorShape([8]))"
      ]
     },
     "execution_count": 11,
     "metadata": {},
     "output_type": "execute_result"
    }
   ],
   "source": [
    "X.shape, y.shape"
   ]
  },
  {
   "cell_type": "code",
   "execution_count": 4,
   "metadata": {},
   "outputs": [],
   "source": [
    "\n",
    "encoder_output = {label: num for num, label in enumerate(data_dict.keys())}\n",
    "samples_per_class = batch_size // num_classes_per_batch\n",
    "class_labels = list(data_dict.keys())\n",
    "BASE = Path(\"/home/avila/github/panspace-paper\")\n",
    "\n",
    "selected_classes = random.sample(class_labels, num_classes_per_batch)\n",
    "paths = []\n",
    "labels = []\n",
    "for cls in selected_classes:\n",
    "    paths_class = data_dict[cls]\n",
    "    selected_samples = random.choices(paths_class, k=samples_per_class)\n",
    "    \n",
    "    # load paths and labels in the batch\n",
    "    paths.extend(selected_samples)        \n",
    "    labels.extend(encoder_output[cls] for _ in selected_samples)\n",
    "\n",
    "# shuffle both paths and labels\n",
    "zipped = list(zip(paths, labels))\n",
    "random.shuffle(zipped)\n",
    "paths, labels = zip(*zipped)\n",
    "\n",
    "# load numpy arrays with batch and channel axes\n",
    "batch_X = [np.expand_dims(np.expand_dims(np.load(BASE.joinpath(p)),axis=0),axis=-1) \n",
    "           for p in paths]\n",
    "X = np.concatenate(batch_X, axis=0)\n",
    "y = np.array(labels)"
   ]
  },
  {
   "cell_type": "code",
   "execution_count": 8,
   "metadata": {},
   "outputs": [
    {
     "data": {
      "text/plain": [
       "(8, 64, 64, 1)"
      ]
     },
     "execution_count": 8,
     "metadata": {},
     "output_type": "execute_result"
    }
   ],
   "source": [
    "batch_X = [np.expand_dims(np.expand_dims(np.load(BASE.joinpath(p)),axis=0),axis=-1) \n",
    "           for p in paths]\n",
    "X = np.concatenate(batch_X, axis=0)\n",
    "X.shape"
   ]
  },
  {
   "cell_type": "code",
   "execution_count": null,
   "metadata": {},
   "outputs": [],
   "source": [
    "np.array(batch_Y)"
   ]
  },
  {
   "cell_type": "code",
   "execution_count": 18,
   "metadata": {},
   "outputs": [
    {
     "data": {
      "text/plain": [
       "(8, 64, 64, 1)"
      ]
     },
     "execution_count": 18,
     "metadata": {},
     "output_type": "execute_result"
    }
   ],
   "source": [
    "BATCH = np.concatenate(batch_X, axis=0) \n",
    "BATCH.shape"
   ]
  },
  {
   "cell_type": "code",
   "execution_count": 19,
   "metadata": {},
   "outputs": [
    {
     "data": {
      "text/plain": [
       "[2, 2, 2, 2, 1, 1, 1, 1]"
      ]
     },
     "execution_count": 19,
     "metadata": {},
     "output_type": "execute_result"
    }
   ],
   "source": [
    "np.array(batch_Y)"
   ]
  },
  {
   "cell_type": "code",
   "execution_count": null,
   "metadata": {},
   "outputs": [],
   "source": [
    "def generator():\n",
    "    while True:\n",
    "        selected_classes = random.sample(class_labels, num_classes_per_batch)\n",
    "        paths = []\n",
    "        labels = []\n",
    "        for cls in selected_classes:\n",
    "            paths_class = data_dict[cls]\n",
    "            selected_samples = random.choices(paths_class, k=samples_per_class)\n",
    "            \n",
    "            # load paths and labels in the batch\n",
    "            paths.extend(selected_samples)        \n",
    "            labels.extend(encoder_output[cls] for _ in selected_samples)\n",
    "\n",
    "        # shuffle both paths and labels\n",
    "        zipped = list(zip(paths, labels))\n",
    "        random.shuffle(zipped)\n",
    "        paths, labels = zip(*zipped)\n",
    "\n",
    "        # load numpy arrays with batch and channel axes\n",
    "        batch_X = [np.expand_dims(np.expand_dims(np.load(BASE.joinpath(p)),axis=0),axis=-1) \n",
    "                for p in paths]\n",
    "        X = np.concatenate(batch_X, axis=0)\n",
    "        y = np.array(labels)\n",
    "        \n",
    "        yield X, y\n",
    "\n",
    "dataset = tf.data.Dataset.from_generator(\n",
    "    generator,\n",
    "    output_types=tf.float32,  # Adjust based on your data type\n",
    "    output_shapes=(batch_size, *data_dict[list(data_dict.keys())[0]][0].shape)\n",
    ")"
   ]
  }
 ],
 "metadata": {
  "kernelspec": {
   "display_name": "panspace-cli",
   "language": "python",
   "name": "python3"
  },
  "language_info": {
   "codemirror_mode": {
    "name": "ipython",
    "version": 3
   },
   "file_extension": ".py",
   "mimetype": "text/x-python",
   "name": "python",
   "nbconvert_exporter": "python",
   "pygments_lexer": "ipython3",
   "version": "3.10.14"
  }
 },
 "nbformat": 4,
 "nbformat_minor": 2
}
